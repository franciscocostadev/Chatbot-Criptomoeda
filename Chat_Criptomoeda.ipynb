{
  "nbformat": 4,
  "nbformat_minor": 0,
  "metadata": {
    "colab": {
      "provenance": [],
      "authorship_tag": "ABX9TyP06OLmuVz8GR3z45ZKZ9gF",
      "include_colab_link": true
    },
    "kernelspec": {
      "name": "python3",
      "display_name": "Python 3"
    },
    "language_info": {
      "name": "python"
    }
  },
  "cells": [
    {
      "cell_type": "markdown",
      "metadata": {
        "id": "view-in-github",
        "colab_type": "text"
      },
      "source": [
        "<a href=\"https://colab.research.google.com/github/franciscocostadev/Chatbot-Criptomoeda/blob/main/Chat_Criptomoeda.ipynb\" target=\"_parent\"><img src=\"https://colab.research.google.com/assets/colab-badge.svg\" alt=\"Open In Colab\"/></a>"
      ]
    },
    {
      "cell_type": "code",
      "source": [
        "!pip install -U -q google-generativeai"
      ],
      "metadata": {
        "id": "exHhhxPCVFwx"
      },
      "execution_count": 26,
      "outputs": []
    },
    {
      "cell_type": "code",
      "source": [
        "import google.generativeai as genai\n",
        "GOOGLE_API_KEY=\"INSIRA_SUA_API_KEY\"\n",
        "genai.configure(api_key=GOOGLE_API_KEY)\n"
      ],
      "metadata": {
        "id": "oQG-7BXeaIGM"
      },
      "execution_count": 27,
      "outputs": []
    },
    {
      "cell_type": "code",
      "source": [
        "for m in genai.list_models():\n",
        "  if 'embedContent' in m.supported_generation_methods:\n",
        "    print(m.name)\n"
      ],
      "metadata": {
        "id": "tHzZE3tibGWX"
      },
      "execution_count": null,
      "outputs": []
    },
    {
      "cell_type": "code",
      "source": [
        "import ccxt\n",
        "\n",
        "# Defina suas credenciais da API Gemini\n",
        "GOOGLE_API_KEY=\"INSIRA_SUA_API_KEY\"\n",
        "genai.configure(api_key=GOOGLE_API_KEY)\n",
        "\n",
        "\n",
        "# Inicializa o objeto da API da Gemini\n",
        "gemini = ccxt.gemini({\n",
        "    'apiKey': GOOGLE_API_KEY,\n",
        "\n",
        "})\n",
        "\n",
        "# Função para obter o preço atual de uma criptomoeda na Gemini\n",
        "def obter_preco(criptomoeda):\n",
        "    try:\n",
        "        ticker = gemini.fetch_ticker(criptomoeda)\n",
        "        return ticker['last']\n",
        "    except Exception as e:\n",
        "        return f\"Erro ao obter preço: {e}\"\n",
        "\n",
        "# Função principal do chatbot\n",
        "def chatbot():\n",
        "    print(\"Bem-vindo ao Chatbot da Gemini!\")\n",
        "    print(\"Digite o nome da criptomoeda que você deseja verificar o preço (por exemplo, 'BTC/USD'):\")\n",
        "    while True:\n",
        "        entrada = input(\"> \").strip().upper()\n",
        "        if entrada == 'SAIR':\n",
        "            print(\"Saindo do Chatbot da Gemini...\")\n",
        "            break\n",
        "        try:\n",
        "            preco = obter_preco(entrada)\n",
        "            print(f\"O preço atual de {entrada} na Gemini é: ${preco}\")\n",
        "        except Exception as e:\n",
        "            print(\"Ocorreu um erro:\", e)\n",
        "\n",
        "# Inicia o chatbot\n",
        "chatbot()"
      ],
      "metadata": {
        "id": "tYUs1NifY561"
      },
      "execution_count": null,
      "outputs": []
    }
  ]
}